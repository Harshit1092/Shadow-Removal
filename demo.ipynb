{
 "cells": [
  {
   "cell_type": "code",
   "execution_count": 7,
   "metadata": {},
   "outputs": [
    {
     "data": {
      "text/plain": [
       "True"
      ]
     },
     "execution_count": 7,
     "metadata": {},
     "output_type": "execute_result"
    }
   ],
   "source": [
    "import cv2 as cv\n",
    "import numpy as np\n",
    "from skimage import measure, morphology\n",
    "from matplotlib import pyplot as plt\n",
    "from typing import Tuple, List\n",
    "\n",
    "def get_mask(img):\n",
    "    img_lab = cv.cvtColor(img, cv.COLOR_BGR2LAB)\n",
    "\n",
    "    l_range = (0, 100)\n",
    "    ab_range = (-128, 127)\n",
    "\n",
    "    img_lab = img_lab.astype('int16')\n",
    "    img_lab[:, :, 0] = img_lab[:, :, 0] * l_range[1] / 255\n",
    "    img_lab[:, :, 1] += ab_range[0]\n",
    "    img_lab[:, :, 2] += ab_range[0]\n",
    "\n",
    "    means = [np.mean(img_lab[:, :, i]) for i in range(3)]\n",
    "    thresholds = [means[i] - (np.std(img_lab[:, :, i]) / 3) for i in range(3)]\n",
    "    if sum(means[1:]) <= 0:\n",
    "        mask = cv.inRange(img_lab, (l_range[0], ab_range[0], ab_range[0]),(thresholds[0], ab_range[1], ab_range[1]))\n",
    "    else:\n",
    "        mask = cv.inRange(img_lab, (l_range[0], ab_range[0], ab_range[0]),(thresholds[0], ab_range[1], thresholds[2]))\n",
    "         \n",
    "\n",
    "    \n",
    "    kernel = cv.getStructuringElement(cv.MORPH_ELLIPSE, (5,5))\n",
    "    cv.morphologyEx(mask, cv.MORPH_CLOSE, kernel, mask)\n",
    "    cv.morphologyEx(mask, cv.MORPH_OPEN, kernel, mask)\n",
    "    mask = morphology.remove_small_holes(mask, area_threshold=100)\n",
    "    mask=mask.astype(np.uint8) * 255\n",
    "\n",
    "    mask=  np.logical_not(mask)\n",
    "    mask = morphology.remove_small_holes(mask, area_threshold=500)\n",
    "    mask=  np.logical_not(mask)\n",
    "    mask=mask.astype(np.uint8) * 255\n",
    "\n",
    "    return mask\n",
    "\n",
    "\n",
    "img=cv.imread(\"test.png\")\n",
    "\n",
    "msk = get_mask(img)\n",
    "\n",
    "kernel = np.ones((5, 5), np.uint8)\n",
    "dilated = cv.dilate(msk, kernel, iterations=3)\n",
    "msk1=dilated^msk\n",
    "\n",
    "total_shadow=0.0\n",
    "total_border=0.0\n",
    "num_shadow=0.0\n",
    "num_border=0.0\n",
    "\n",
    "r,c,channels=img.shape\n",
    "new_img=np.zeros((r,c,channels), dtype=np.uint8)\n",
    "\n",
    "for i in range(r):\n",
    "    for j in range(c):\n",
    "        if(msk1[i,j]==255):\n",
    "            total_border+=img[i][j]\n",
    "            num_border+=1\n",
    "        if(msk[i,j]==255):\n",
    "            total_shadow+=img[i][j]\n",
    "            num_shadow+=1\n",
    "            \n",
    "average_shadow=total_shadow/num_shadow\n",
    "average_border=total_border/num_border\n",
    "ratio=1\n",
    "if(average_shadow[0]!=0 and average_shadow[1]!=0 and average_shadow[2]!=0 ):\n",
    "    ratio=average_border/average_shadow\n",
    "\n",
    "\n",
    "for i in range(r):\n",
    "    for j in range(c):\n",
    "        if(msk[i,j]==255):\n",
    "            new_img[i][j]=img[i][j]*ratio\n",
    "        else:\n",
    "            new_img[i][j]=img[i][j]\n",
    "\n",
    "cv.imwrite(\"output.png\",new_img)"
   ]
  }
 ],
 "metadata": {
  "kernelspec": {
   "display_name": "dipp",
   "language": "python",
   "name": "python3"
  },
  "language_info": {
   "codemirror_mode": {
    "name": "ipython",
    "version": 3
   },
   "file_extension": ".py",
   "mimetype": "text/x-python",
   "name": "python",
   "nbconvert_exporter": "python",
   "pygments_lexer": "ipython3",
   "version": "3.8.16"
  },
  "orig_nbformat": 4
 },
 "nbformat": 4,
 "nbformat_minor": 2
}
